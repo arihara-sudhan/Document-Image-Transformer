{
 "cells": [
  {
   "cell_type": "markdown",
   "id": "d62ad018",
   "metadata": {},
   "source": [
    "# FINE-TUNING DiT"
   ]
  },
  {
   "cell_type": "markdown",
   "id": "dc0f854b",
   "metadata": {},
   "source": [
    "# ![https://images.pexels.com/photos/357514/pexels-photo-357514.jpeg?cs=srgb&dl=pexels-pixabay-357514.jpg&fm=jpg](https://images.pexels.com/photos/357514/pexels-photo-357514.jpeg?cs=srgb&dl=pexels-pixabay-357514.jpg&fm=jpg)"
   ]
  },
  {
   "cell_type": "code",
   "execution_count": 19,
   "id": "941bb731",
   "metadata": {},
   "outputs": [],
   "source": [
    "import torch\n",
    "from torch.utils.data import DataLoader, Dataset\n",
    "from torchvision import transforms\n",
    "from PIL import Image\n",
    "import glob, os"
   ]
  },
  {
   "cell_type": "markdown",
   "id": "985d7e64",
   "metadata": {},
   "source": [
    "# MODEL CONFIGS"
   ]
  },
  {
   "cell_type": "code",
   "execution_count": 3,
   "id": "f68a01ab",
   "metadata": {},
   "outputs": [],
   "source": [
    "model = BeitForMaskedImageModeling.from_pretrained(\"microsoft/dit-base\")\n",
    "num_classes = 4\n",
    "model.avg_pooling = torch.nn.AdaptiveAvgPool2d(1)\n",
    "model.classifier = torch.nn.Linear(model.config.hidden_size, num_classes)\n",
    "criterion = torch.nn.CrossEntropyLoss()"
   ]
  },
  {
   "cell_type": "markdown",
   "id": "aa4cef70",
   "metadata": {},
   "source": [
    "# CUSTOM DATASET"
   ]
  },
  {
   "cell_type": "code",
   "execution_count": 4,
   "id": "1405a243",
   "metadata": {},
   "outputs": [],
   "source": [
    "class CustomDataset(Dataset):\n",
    "    def __init__(self, folder_path, transform=None):\n",
    "        self.folder_path = folder_path\n",
    "        self.transform = transform\n",
    "        self.image_paths = []\n",
    "        self.labels = []\n",
    "\n",
    "        self._load_images()\n",
    "\n",
    "    def _load_images(self):\n",
    "        valid_extensions = ('.jpg', '.jpeg', '.png', '.ppm', '.bmp', '.pgm', '.tif', '.tiff', '.webp')\n",
    "        for class_name in os.listdir(self.folder_path):\n",
    "            class_folder = os.path.join(self.folder_path, class_name)\n",
    "            if os.path.isdir(class_folder):\n",
    "                for filename in os.listdir(class_folder):\n",
    "                    if filename.lower().endswith(valid_extensions):\n",
    "                        self.image_paths.append(os.path.join(class_folder, filename))\n",
    "                        self.labels.append(class_name)\n",
    "\n",
    "    def __len__(self):\n",
    "        return len(self.image_paths)\n",
    "\n",
    "    def __getitem__(self, idx):\n",
    "        image_path = self.image_paths[idx]\n",
    "        label = self.labels[idx]\n",
    "\n",
    "        image = Image.open(image_path).convert('RGB')\n",
    "        if self.transform:\n",
    "            image = self.transform(image)\n",
    "\n",
    "        # Convert label to tensor\n",
    "        label_tensor = torch.tensor(int(label))  # Assuming the labels are integer class indices\n",
    "\n",
    "        return image, label_tensor"
   ]
  },
  {
   "cell_type": "markdown",
   "id": "4e48b28b",
   "metadata": {},
   "source": [
    "# TRAIN LOADER"
   ]
  },
  {
   "cell_type": "code",
   "execution_count": 5,
   "id": "60ef06c1",
   "metadata": {},
   "outputs": [],
   "source": [
    "data_folder = \"./Datasets/DOCS_V1/train/\"\n",
    "\n",
    "transform = transforms.Compose([\n",
    "    transforms.Resize((224, 224)),  # Resize images to fit the model input size\n",
    "    transforms.ToTensor(),\n",
    "    transforms.Normalize(mean=[0.485, 0.456, 0.406], std=[0.229, 0.224, 0.225]),  # Normalize images\n",
    "])\n",
    "\n",
    "train_dataset = CustomDataset(data_folder, transform=transform)\n",
    "\n",
    "if len(train_dataset) == 0:\n",
    "    raise ValueError(\"No images found in the dataset. Please check the 'train' subfolders.\")\n",
    "\n",
    "train_loader = DataLoader(train_dataset, batch_size=4, shuffle=True)\n",
    "num_epochs = 4"
   ]
  },
  {
   "cell_type": "code",
   "execution_count": 6,
   "id": "6f9bb070",
   "metadata": {},
   "outputs": [],
   "source": [
    "device = torch.device(\"cuda\" if torch.cuda.is_available() else \"cpu\")\n",
    "model.to(device)\n",
    "\n",
    "optimizer = torch.optim.AdamW(model.parameters(), lr=1e-5, weight_decay=0.01)\n",
    "num_epochs = 5"
   ]
  },
  {
   "cell_type": "markdown",
   "id": "2ce3e1e7",
   "metadata": {},
   "source": [
    "# TRAIN"
   ]
  },
  {
   "cell_type": "code",
   "execution_count": null,
   "id": "5ae1325d",
   "metadata": {},
   "outputs": [],
   "source": [
    "for epoch in range(num_epochs):\n",
    "    model.train()\n",
    "    for step, (inputs, labels) in enumerate(train_loader):\n",
    "        inputs = inputs.to(device)\n",
    "        labels = labels.to(device)\n",
    "        outputs = model(pixel_values=inputs, return_dict=True)\n",
    "        logits = outputs.logits\n",
    "        batch_size = labels.size(0)\n",
    "        logits = logits.view(batch_size, -1)\n",
    "        labels = labels.view(-1)\n",
    "        loss = criterion(logits, labels)\n",
    "        loss.backward()\n",
    "        optimizer.step()\n",
    "        optimizer.zero_grad()\n",
    "        if step % 100 == 0:\n",
    "            print(f\"Epoch {epoch}, Step {step}, Loss: {loss.item()}\")"
   ]
  },
  {
   "cell_type": "markdown",
   "id": "f0539f26",
   "metadata": {},
   "source": [
    "# TESTING"
   ]
  },
  {
   "cell_type": "code",
   "execution_count": 13,
   "id": "9ab9a0c7",
   "metadata": {},
   "outputs": [],
   "source": [
    "data_folder = \"./Datasets/DOCS_V1/test/\"\n",
    "test_dataset = CustomDataset(data_folder, transform=transform)\n",
    "\n",
    "if len(test_dataset) == 0:\n",
    "    raise ValueError(\"No images found in the dataset. Please check the 'train' subfolders.\")\n",
    "\n",
    "test_loader = DataLoader(test_dataset, batch_size=4, shuffle=True)"
   ]
  },
  {
   "cell_type": "code",
   "execution_count": 14,
   "id": "9cc211f1",
   "metadata": {
    "scrolled": false
   },
   "outputs": [
    {
     "name": "stdout",
     "output_type": "stream",
     "text": [
      "Total correct predictions: 906\n",
      "Total predictions made: 1187\n",
      "Accuracy: 76.32687447346251\n"
     ]
    }
   ],
   "source": [
    "import torch.nn.functional as F\n",
    "\n",
    "model.eval()\n",
    "correct_predictions = 0\n",
    "total_predictions = 0\n",
    "\n",
    "with torch.no_grad():\n",
    "    for inputs, labels in test_loader:\n",
    "        inputs = inputs.to(device)\n",
    "        labels = labels.to(device)\n",
    "        outputs = model(inputs, return_dict=True)\n",
    "        logits = outputs.logits\n",
    "\n",
    "        # Perform max pooling along the second dimension (axis 1)\n",
    "        pooled_logits, _ = torch.max(logits, dim=1)\n",
    "\n",
    "        # Convert pooled_logits to probabilities using softmax\n",
    "        probabilities = F.softmax(pooled_logits, dim=-1)\n",
    "        predictions = torch.argmax(probabilities, dim=-1)\n",
    "\n",
    "        correct_predictions += (predictions == labels).sum().item()\n",
    "        total_predictions += labels.size(0)\n",
    "\n",
    "print(\"Total correct predictions:\", correct_predictions)\n",
    "print(\"Total predictions made:\", total_predictions)\n",
    "\n",
    "accuracy = correct_predictions / total_predictions * 100\n",
    "print(\"Accuracy:\", accuracy)\n"
   ]
  },
  {
   "cell_type": "code",
   "execution_count": 15,
   "id": "086870be",
   "metadata": {},
   "outputs": [],
   "source": [
    "torch.save(model,'./modelsave.pt')"
   ]
  },
  {
   "cell_type": "code",
   "execution_count": 49,
   "id": "153cb852",
   "metadata": {},
   "outputs": [
    {
     "data": {
      "text/plain": [
       "torch.Size([4])"
      ]
     },
     "execution_count": 49,
     "metadata": {},
     "output_type": "execute_result"
    }
   ],
   "source": [
    "labels.shape"
   ]
  }
 ],
 "metadata": {
  "kernelspec": {
   "display_name": "Python 3 (ipykernel)",
   "language": "python",
   "name": "python3"
  },
  "language_info": {
   "codemirror_mode": {
    "name": "ipython",
    "version": 3
   },
   "file_extension": ".py",
   "mimetype": "text/x-python",
   "name": "python",
   "nbconvert_exporter": "python",
   "pygments_lexer": "ipython3",
   "version": "3.8.16"
  }
 },
 "nbformat": 4,
 "nbformat_minor": 5
}
